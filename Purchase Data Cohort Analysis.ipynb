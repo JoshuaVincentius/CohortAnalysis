{
 "cells": [
  {
   "cell_type": "markdown",
   "metadata": {
    "id": "A1HGwEaKpEFc"
   },
   "source": [
    "**Cohort Analysis**"
   ]
  },
  {
   "cell_type": "markdown",
   "metadata": {
    "id": "CFn9scO9pQOv"
   },
   "source": [
    "#Import"
   ]
  },
  {
   "cell_type": "code",
   "execution_count": 47,
   "metadata": {
    "id": "_p3Y-NKTpUPa"
   },
   "outputs": [],
   "source": [
    "# import library\n",
    "import numpy as np # linear algebra\n",
    "import pandas as pd # data processing, CSV file I/O (e.g. pd.read_csv)\n",
    "import datetime as dt\n",
    "\n",
    "#For Data  Visualization\n",
    "import matplotlib.pyplot as plt\n",
    "import seaborn as sns\n",
    "\n",
    "#For Machine Learning Algorithm\n",
    "from sklearn.preprocessing import StandardScaler\n",
    "from sklearn.cluster import KMeans\n",
    "\n",
    "# Input data files are available in the \"../input/\" directory.\n",
    "# For example, running this (by clicking run or pressing Shift+Enter) will list the files in the input directory\n",
    "\n",
    "import os\n",
    "# print(os.listdir(\"../input\"))"
   ]
  },
  {
   "cell_type": "code",
   "execution_count": 51,
   "metadata": {
    "id": "ZCe1HNk_1ak-"
   },
   "outputs": [],
   "source": [
    "df = pd.read_csv('purchase.csv')"
   ]
  },
  {
   "cell_type": "markdown",
   "metadata": {
    "id": "ADWblq6FudKM"
   },
   "source": [
    "#Data Profiling and Preprocessing"
   ]
  },
  {
   "cell_type": "code",
   "execution_count": 52,
   "metadata": {
    "colab": {
     "base_uri": "https://localhost:8080/",
     "height": 206
    },
    "id": "tUZrABZmugTl",
    "outputId": "4726fc41-29a9-490a-e7a2-1b46780b9a45"
   },
   "outputs": [
    {
     "data": {
      "text/html": [
       "<div>\n",
       "<style scoped>\n",
       "    .dataframe tbody tr th:only-of-type {\n",
       "        vertical-align: middle;\n",
       "    }\n",
       "\n",
       "    .dataframe tbody tr th {\n",
       "        vertical-align: top;\n",
       "    }\n",
       "\n",
       "    .dataframe thead th {\n",
       "        text-align: right;\n",
       "    }\n",
       "</style>\n",
       "<table border=\"1\" class=\"dataframe\">\n",
       "  <thead>\n",
       "    <tr style=\"text-align: right;\">\n",
       "      <th></th>\n",
       "      <th>event_time</th>\n",
       "      <th>order_id</th>\n",
       "      <th>product_id</th>\n",
       "      <th>category_id</th>\n",
       "      <th>category_code</th>\n",
       "      <th>brand</th>\n",
       "      <th>price</th>\n",
       "      <th>user_id</th>\n",
       "    </tr>\n",
       "  </thead>\n",
       "  <tbody>\n",
       "    <tr>\n",
       "      <th>0</th>\n",
       "      <td>2020-04-24 11:50:39 UTC</td>\n",
       "      <td>2294359932054536986</td>\n",
       "      <td>1515966223509089906</td>\n",
       "      <td>2.268105e+18</td>\n",
       "      <td>electronics.tablet</td>\n",
       "      <td>samsung</td>\n",
       "      <td>162.01</td>\n",
       "      <td>1.515916e+18</td>\n",
       "    </tr>\n",
       "    <tr>\n",
       "      <th>1</th>\n",
       "      <td>2020-04-24 11:50:39 UTC</td>\n",
       "      <td>2294359932054536986</td>\n",
       "      <td>1515966223509089906</td>\n",
       "      <td>2.268105e+18</td>\n",
       "      <td>electronics.tablet</td>\n",
       "      <td>samsung</td>\n",
       "      <td>162.01</td>\n",
       "      <td>1.515916e+18</td>\n",
       "    </tr>\n",
       "    <tr>\n",
       "      <th>2</th>\n",
       "      <td>2020-04-24 14:37:43 UTC</td>\n",
       "      <td>2294444024058086220</td>\n",
       "      <td>2273948319057183658</td>\n",
       "      <td>2.268105e+18</td>\n",
       "      <td>electronics.audio.headphone</td>\n",
       "      <td>huawei</td>\n",
       "      <td>77.52</td>\n",
       "      <td>1.515916e+18</td>\n",
       "    </tr>\n",
       "    <tr>\n",
       "      <th>3</th>\n",
       "      <td>2020-04-24 14:37:43 UTC</td>\n",
       "      <td>2294444024058086220</td>\n",
       "      <td>2273948319057183658</td>\n",
       "      <td>2.268105e+18</td>\n",
       "      <td>electronics.audio.headphone</td>\n",
       "      <td>huawei</td>\n",
       "      <td>77.52</td>\n",
       "      <td>1.515916e+18</td>\n",
       "    </tr>\n",
       "    <tr>\n",
       "      <th>4</th>\n",
       "      <td>2020-04-24 19:16:21 UTC</td>\n",
       "      <td>2294584263154074236</td>\n",
       "      <td>2273948316817424439</td>\n",
       "      <td>2.268105e+18</td>\n",
       "      <td>NaN</td>\n",
       "      <td>karcher</td>\n",
       "      <td>217.57</td>\n",
       "      <td>1.515916e+18</td>\n",
       "    </tr>\n",
       "  </tbody>\n",
       "</table>\n",
       "</div>"
      ],
      "text/plain": [
       "                event_time             order_id           product_id  \\\n",
       "0  2020-04-24 11:50:39 UTC  2294359932054536986  1515966223509089906   \n",
       "1  2020-04-24 11:50:39 UTC  2294359932054536986  1515966223509089906   \n",
       "2  2020-04-24 14:37:43 UTC  2294444024058086220  2273948319057183658   \n",
       "3  2020-04-24 14:37:43 UTC  2294444024058086220  2273948319057183658   \n",
       "4  2020-04-24 19:16:21 UTC  2294584263154074236  2273948316817424439   \n",
       "\n",
       "    category_id                category_code    brand   price       user_id  \n",
       "0  2.268105e+18           electronics.tablet  samsung  162.01  1.515916e+18  \n",
       "1  2.268105e+18           electronics.tablet  samsung  162.01  1.515916e+18  \n",
       "2  2.268105e+18  electronics.audio.headphone   huawei   77.52  1.515916e+18  \n",
       "3  2.268105e+18  electronics.audio.headphone   huawei   77.52  1.515916e+18  \n",
       "4  2.268105e+18                          NaN  karcher  217.57  1.515916e+18  "
      ]
     },
     "execution_count": 52,
     "metadata": {},
     "output_type": "execute_result"
    }
   ],
   "source": [
    "df.head()"
   ]
  },
  {
   "cell_type": "code",
   "execution_count": 53,
   "metadata": {
    "colab": {
     "base_uri": "https://localhost:8080/"
    },
    "id": "yFm93fvb6_JA",
    "outputId": "f427fcfa-67e1-4042-babb-45aa3da9bda8"
   },
   "outputs": [
    {
     "name": "stdout",
     "output_type": "stream",
     "text": [
      "<class 'pandas.core.frame.DataFrame'>\n",
      "RangeIndex: 2633521 entries, 0 to 2633520\n",
      "Data columns (total 8 columns):\n",
      " #   Column         Dtype  \n",
      "---  ------         -----  \n",
      " 0   event_time     object \n",
      " 1   order_id       int64  \n",
      " 2   product_id     int64  \n",
      " 3   category_id    float64\n",
      " 4   category_code  object \n",
      " 5   brand          object \n",
      " 6   price          float64\n",
      " 7   user_id        float64\n",
      "dtypes: float64(3), int64(2), object(3)\n",
      "memory usage: 160.7+ MB\n"
     ]
    }
   ],
   "source": [
    "df.info()"
   ]
  },
  {
   "cell_type": "markdown",
   "metadata": {
    "id": "dR08fV3Y2wZz"
   },
   "source": [
    "## Check and handling missing values"
   ]
  },
  {
   "cell_type": "code",
   "execution_count": 54,
   "metadata": {
    "colab": {
     "base_uri": "https://localhost:8080/"
    },
    "id": "FiVGQO0Muse1",
    "outputId": "0b00b9bd-9f2f-4a16-a303-4a5095b3aed9"
   },
   "outputs": [
    {
     "data": {
      "text/plain": [
       "event_time             0\n",
       "order_id               0\n",
       "product_id             0\n",
       "category_id       431954\n",
       "category_code     612202\n",
       "brand             506005\n",
       "price             431954\n",
       "user_id          2069352\n",
       "dtype: int64"
      ]
     },
     "execution_count": 54,
     "metadata": {},
     "output_type": "execute_result"
    }
   ],
   "source": [
    "df.isna().sum()"
   ]
  },
  {
   "cell_type": "markdown",
   "metadata": {
    "id": "wYqaKrdQ3rNL"
   },
   "source": [
    "The missing values in user id is very high and we need to check why the incident does happen. Deleting the missing values in user id or deleting the user id column is not an option because user id will become the important parameter in our analysis. Therefore, we will try the imputation method by assigning 0 or -999 so that the machine can recognize that the data is not real or is different."
   ]
  },
  {
   "cell_type": "code",
   "execution_count": 55,
   "metadata": {
    "id": "Uk-mJL_H0ldl"
   },
   "outputs": [],
   "source": [
    "df['user_id'] = df['user_id'].fillna(0)"
   ]
  },
  {
   "cell_type": "code",
   "execution_count": 57,
   "metadata": {
    "colab": {
     "base_uri": "https://localhost:8080/"
    },
    "id": "pCBfi2yg0qO7",
    "outputId": "ba7c8694-e9b1-43a6-d609-4696f733011f"
   },
   "outputs": [
    {
     "data": {
      "text/plain": [
       "event_time            0\n",
       "order_id              0\n",
       "product_id            0\n",
       "category_id      431954\n",
       "category_code    612202\n",
       "brand            506005\n",
       "price            431954\n",
       "user_id               0\n",
       "dtype: int64"
      ]
     },
     "execution_count": 57,
     "metadata": {},
     "output_type": "execute_result"
    }
   ],
   "source": [
    "df.isna().sum()"
   ]
  },
  {
   "cell_type": "markdown",
   "metadata": {
    "id": "V_QX7Eju480c"
   },
   "source": [
    "There are missing values in category id, category code, brand and price. Because the percentage of the missing value is not too high, We will try to drop the missing values in these columns"
   ]
  },
  {
   "cell_type": "code",
   "execution_count": 58,
   "metadata": {
    "colab": {
     "base_uri": "https://localhost:8080/"
    },
    "id": "_MyEyzcBHhO3",
    "outputId": "7f63ff1d-5209-4c4a-be9b-8420e4b83caf"
   },
   "outputs": [
    {
     "data": {
      "text/plain": [
       "event_time       0\n",
       "order_id         0\n",
       "product_id       0\n",
       "category_id      0\n",
       "category_code    0\n",
       "brand            0\n",
       "price            0\n",
       "user_id          0\n",
       "dtype: int64"
      ]
     },
     "execution_count": 58,
     "metadata": {},
     "output_type": "execute_result"
    }
   ],
   "source": [
    "df = df.dropna(subset = ['category_id', 'category_code', 'brand', 'price'])\n",
    "df.isna().sum()"
   ]
  },
  {
   "cell_type": "markdown",
   "metadata": {
    "id": "kmWyPktn22TT"
   },
   "source": [
    "##Check and handling duplicates"
   ]
  },
  {
   "cell_type": "code",
   "execution_count": 59,
   "metadata": {
    "colab": {
     "base_uri": "https://localhost:8080/"
    },
    "id": "XgSdygH62L55",
    "outputId": "9acb8c8a-7ef8-4e40-d7e1-9ef50a776fe5"
   },
   "outputs": [
    {
     "data": {
      "text/plain": [
       "500"
      ]
     },
     "execution_count": 59,
     "metadata": {},
     "output_type": "execute_result"
    }
   ],
   "source": [
    "df.duplicated().sum()"
   ]
  },
  {
   "cell_type": "markdown",
   "metadata": {
    "id": "v7wFhGpz5UHM"
   },
   "source": [
    "Here, we know that there are few duplicate values in our data and we will try to delete those duplicates before further analysis is done"
   ]
  },
  {
   "cell_type": "code",
   "execution_count": 60,
   "metadata": {
    "id": "-C8SJ3r62Qjr"
   },
   "outputs": [],
   "source": [
    "df = df.drop_duplicates()"
   ]
  },
  {
   "cell_type": "code",
   "execution_count": 61,
   "metadata": {
    "colab": {
     "base_uri": "https://localhost:8080/"
    },
    "id": "NI9Zsb6x2Xyu",
    "outputId": "44635734-db23-43c4-a6ca-d2909d60ab5d"
   },
   "outputs": [
    {
     "data": {
      "text/plain": [
       "0"
      ]
     },
     "execution_count": 61,
     "metadata": {},
     "output_type": "execute_result"
    }
   ],
   "source": [
    "df.duplicated().sum()"
   ]
  },
  {
   "cell_type": "code",
   "execution_count": 62,
   "metadata": {
    "colab": {
     "base_uri": "https://localhost:8080/",
     "height": 301
    },
    "id": "KZHvq4r4uvGr",
    "outputId": "535a0fd4-2b5e-49fe-9b08-008bd3f430a1"
   },
   "outputs": [
    {
     "data": {
      "text/html": [
       "<div>\n",
       "<style scoped>\n",
       "    .dataframe tbody tr th:only-of-type {\n",
       "        vertical-align: middle;\n",
       "    }\n",
       "\n",
       "    .dataframe tbody tr th {\n",
       "        vertical-align: top;\n",
       "    }\n",
       "\n",
       "    .dataframe thead th {\n",
       "        text-align: right;\n",
       "    }\n",
       "</style>\n",
       "<table border=\"1\" class=\"dataframe\">\n",
       "  <thead>\n",
       "    <tr style=\"text-align: right;\">\n",
       "      <th></th>\n",
       "      <th>order_id</th>\n",
       "      <th>product_id</th>\n",
       "      <th>category_id</th>\n",
       "      <th>price</th>\n",
       "      <th>user_id</th>\n",
       "    </tr>\n",
       "  </thead>\n",
       "  <tbody>\n",
       "    <tr>\n",
       "      <th>count</th>\n",
       "      <td>1.531675e+06</td>\n",
       "      <td>1.531675e+06</td>\n",
       "      <td>1.531675e+06</td>\n",
       "      <td>1.531675e+06</td>\n",
       "      <td>1.531675e+06</td>\n",
       "    </tr>\n",
       "    <tr>\n",
       "      <th>mean</th>\n",
       "      <td>2.362467e+18</td>\n",
       "      <td>1.676933e+18</td>\n",
       "      <td>2.275819e+18</td>\n",
       "      <td>1.962131e+02</td>\n",
       "      <td>4.158944e+17</td>\n",
       "    </tr>\n",
       "    <tr>\n",
       "      <th>std</th>\n",
       "      <td>1.744931e+16</td>\n",
       "      <td>3.127787e+17</td>\n",
       "      <td>2.707903e+16</td>\n",
       "      <td>2.628926e+02</td>\n",
       "      <td>6.763823e+17</td>\n",
       "    </tr>\n",
       "    <tr>\n",
       "      <th>min</th>\n",
       "      <td>2.294360e+18</td>\n",
       "      <td>1.515966e+18</td>\n",
       "      <td>2.268105e+18</td>\n",
       "      <td>0.000000e+00</td>\n",
       "      <td>0.000000e+00</td>\n",
       "    </tr>\n",
       "    <tr>\n",
       "      <th>25%</th>\n",
       "      <td>2.348814e+18</td>\n",
       "      <td>1.515966e+18</td>\n",
       "      <td>2.268105e+18</td>\n",
       "      <td>2.914000e+01</td>\n",
       "      <td>0.000000e+00</td>\n",
       "    </tr>\n",
       "    <tr>\n",
       "      <th>50%</th>\n",
       "      <td>2.353263e+18</td>\n",
       "      <td>1.515966e+18</td>\n",
       "      <td>2.268105e+18</td>\n",
       "      <td>1.154900e+02</td>\n",
       "      <td>0.000000e+00</td>\n",
       "    </tr>\n",
       "    <tr>\n",
       "      <th>75%</th>\n",
       "      <td>2.383856e+18</td>\n",
       "      <td>1.515966e+18</td>\n",
       "      <td>2.268105e+18</td>\n",
       "      <td>2.546100e+02</td>\n",
       "      <td>1.515916e+18</td>\n",
       "    </tr>\n",
       "    <tr>\n",
       "      <th>max</th>\n",
       "      <td>2.388441e+18</td>\n",
       "      <td>2.388434e+18</td>\n",
       "      <td>2.374499e+18</td>\n",
       "      <td>5.092590e+04</td>\n",
       "      <td>1.515916e+18</td>\n",
       "    </tr>\n",
       "  </tbody>\n",
       "</table>\n",
       "</div>"
      ],
      "text/plain": [
       "           order_id    product_id   category_id         price       user_id\n",
       "count  1.531675e+06  1.531675e+06  1.531675e+06  1.531675e+06  1.531675e+06\n",
       "mean   2.362467e+18  1.676933e+18  2.275819e+18  1.962131e+02  4.158944e+17\n",
       "std    1.744931e+16  3.127787e+17  2.707903e+16  2.628926e+02  6.763823e+17\n",
       "min    2.294360e+18  1.515966e+18  2.268105e+18  0.000000e+00  0.000000e+00\n",
       "25%    2.348814e+18  1.515966e+18  2.268105e+18  2.914000e+01  0.000000e+00\n",
       "50%    2.353263e+18  1.515966e+18  2.268105e+18  1.154900e+02  0.000000e+00\n",
       "75%    2.383856e+18  1.515966e+18  2.268105e+18  2.546100e+02  1.515916e+18\n",
       "max    2.388441e+18  2.388434e+18  2.374499e+18  5.092590e+04  1.515916e+18"
      ]
     },
     "execution_count": 62,
     "metadata": {},
     "output_type": "execute_result"
    }
   ],
   "source": [
    "df.describe()"
   ]
  },
  {
   "cell_type": "markdown",
   "metadata": {
    "id": "3_jKliyA5iwn"
   },
   "source": [
    "Note that the minimum price of the purchase has to be more than zero (>0) and all of the columns must not have negative value"
   ]
  },
  {
   "cell_type": "code",
   "execution_count": 63,
   "metadata": {
    "colab": {
     "base_uri": "https://localhost:8080/",
     "height": 301
    },
    "id": "Vk_o8L_u1DYi",
    "outputId": "044c1249-b54d-44a4-e009-8812d571b6f7"
   },
   "outputs": [
    {
     "data": {
      "text/html": [
       "<div>\n",
       "<style scoped>\n",
       "    .dataframe tbody tr th:only-of-type {\n",
       "        vertical-align: middle;\n",
       "    }\n",
       "\n",
       "    .dataframe tbody tr th {\n",
       "        vertical-align: top;\n",
       "    }\n",
       "\n",
       "    .dataframe thead th {\n",
       "        text-align: right;\n",
       "    }\n",
       "</style>\n",
       "<table border=\"1\" class=\"dataframe\">\n",
       "  <thead>\n",
       "    <tr style=\"text-align: right;\">\n",
       "      <th></th>\n",
       "      <th>order_id</th>\n",
       "      <th>product_id</th>\n",
       "      <th>category_id</th>\n",
       "      <th>price</th>\n",
       "      <th>user_id</th>\n",
       "    </tr>\n",
       "  </thead>\n",
       "  <tbody>\n",
       "    <tr>\n",
       "      <th>count</th>\n",
       "      <td>1.531650e+06</td>\n",
       "      <td>1.531650e+06</td>\n",
       "      <td>1.531650e+06</td>\n",
       "      <td>1.531650e+06</td>\n",
       "      <td>1.531650e+06</td>\n",
       "    </tr>\n",
       "    <tr>\n",
       "      <th>mean</th>\n",
       "      <td>2.362467e+18</td>\n",
       "      <td>1.676932e+18</td>\n",
       "      <td>2.275820e+18</td>\n",
       "      <td>1.962163e+02</td>\n",
       "      <td>4.158972e+17</td>\n",
       "    </tr>\n",
       "    <tr>\n",
       "      <th>std</th>\n",
       "      <td>1.744935e+16</td>\n",
       "      <td>3.127781e+17</td>\n",
       "      <td>2.707923e+16</td>\n",
       "      <td>2.628935e+02</td>\n",
       "      <td>6.763837e+17</td>\n",
       "    </tr>\n",
       "    <tr>\n",
       "      <th>min</th>\n",
       "      <td>2.294360e+18</td>\n",
       "      <td>1.515966e+18</td>\n",
       "      <td>2.268105e+18</td>\n",
       "      <td>2.000000e-02</td>\n",
       "      <td>0.000000e+00</td>\n",
       "    </tr>\n",
       "    <tr>\n",
       "      <th>25%</th>\n",
       "      <td>2.348814e+18</td>\n",
       "      <td>1.515966e+18</td>\n",
       "      <td>2.268105e+18</td>\n",
       "      <td>2.914000e+01</td>\n",
       "      <td>0.000000e+00</td>\n",
       "    </tr>\n",
       "    <tr>\n",
       "      <th>50%</th>\n",
       "      <td>2.353263e+18</td>\n",
       "      <td>1.515966e+18</td>\n",
       "      <td>2.268105e+18</td>\n",
       "      <td>1.154900e+02</td>\n",
       "      <td>0.000000e+00</td>\n",
       "    </tr>\n",
       "    <tr>\n",
       "      <th>75%</th>\n",
       "      <td>2.383856e+18</td>\n",
       "      <td>1.515966e+18</td>\n",
       "      <td>2.268105e+18</td>\n",
       "      <td>2.546100e+02</td>\n",
       "      <td>1.515916e+18</td>\n",
       "    </tr>\n",
       "    <tr>\n",
       "      <th>max</th>\n",
       "      <td>2.388441e+18</td>\n",
       "      <td>2.388434e+18</td>\n",
       "      <td>2.374499e+18</td>\n",
       "      <td>5.092590e+04</td>\n",
       "      <td>1.515916e+18</td>\n",
       "    </tr>\n",
       "  </tbody>\n",
       "</table>\n",
       "</div>"
      ],
      "text/plain": [
       "           order_id    product_id   category_id         price       user_id\n",
       "count  1.531650e+06  1.531650e+06  1.531650e+06  1.531650e+06  1.531650e+06\n",
       "mean   2.362467e+18  1.676932e+18  2.275820e+18  1.962163e+02  4.158972e+17\n",
       "std    1.744935e+16  3.127781e+17  2.707923e+16  2.628935e+02  6.763837e+17\n",
       "min    2.294360e+18  1.515966e+18  2.268105e+18  2.000000e-02  0.000000e+00\n",
       "25%    2.348814e+18  1.515966e+18  2.268105e+18  2.914000e+01  0.000000e+00\n",
       "50%    2.353263e+18  1.515966e+18  2.268105e+18  1.154900e+02  0.000000e+00\n",
       "75%    2.383856e+18  1.515966e+18  2.268105e+18  2.546100e+02  1.515916e+18\n",
       "max    2.388441e+18  2.388434e+18  2.374499e+18  5.092590e+04  1.515916e+18"
      ]
     },
     "execution_count": 63,
     "metadata": {},
     "output_type": "execute_result"
    }
   ],
   "source": [
    "df=df[df['price'] > 0]\n",
    "df.describe() "
   ]
  },
  {
   "cell_type": "markdown",
   "metadata": {
    "id": "pmL4_AO_8c27"
   },
   "source": [
    "##Change data type"
   ]
  },
  {
   "cell_type": "code",
   "execution_count": 64,
   "metadata": {
    "id": "9elot5zY-r_5"
   },
   "outputs": [],
   "source": [
    "df = df.reset_index(drop = True)"
   ]
  },
  {
   "cell_type": "code",
   "execution_count": 65,
   "metadata": {
    "id": "BwDsazLh7UYa"
   },
   "outputs": [],
   "source": [
    "df['event_time'] = pd.to_datetime(df['event_time'])"
   ]
  },
  {
   "cell_type": "markdown",
   "metadata": {},
   "source": [
    "Here, we need to filter the purchase year on year 2020 so that the cohort table will not be too far in terms of the month range"
   ]
  },
  {
   "cell_type": "code",
   "execution_count": 66,
   "metadata": {},
   "outputs": [],
   "source": [
    "df = df[df['event_time'].dt.year == 2020]"
   ]
  },
  {
   "cell_type": "code",
   "execution_count": 67,
   "metadata": {
    "colab": {
     "base_uri": "https://localhost:8080/",
     "height": 206
    },
    "id": "GIPKZnct1Ogv",
    "outputId": "123bdf58-4006-4582-b12a-8e0c38ce44f8"
   },
   "outputs": [
    {
     "data": {
      "text/html": [
       "<div>\n",
       "<style scoped>\n",
       "    .dataframe tbody tr th:only-of-type {\n",
       "        vertical-align: middle;\n",
       "    }\n",
       "\n",
       "    .dataframe tbody tr th {\n",
       "        vertical-align: top;\n",
       "    }\n",
       "\n",
       "    .dataframe thead th {\n",
       "        text-align: right;\n",
       "    }\n",
       "</style>\n",
       "<table border=\"1\" class=\"dataframe\">\n",
       "  <thead>\n",
       "    <tr style=\"text-align: right;\">\n",
       "      <th></th>\n",
       "      <th>event_time</th>\n",
       "      <th>order_id</th>\n",
       "      <th>product_id</th>\n",
       "      <th>category_id</th>\n",
       "      <th>category_code</th>\n",
       "      <th>brand</th>\n",
       "      <th>price</th>\n",
       "      <th>user_id</th>\n",
       "    </tr>\n",
       "  </thead>\n",
       "  <tbody>\n",
       "    <tr>\n",
       "      <th>0</th>\n",
       "      <td>2020-04-24 11:50:39+00:00</td>\n",
       "      <td>2294359932054536986</td>\n",
       "      <td>1515966223509089906</td>\n",
       "      <td>2.268105e+18</td>\n",
       "      <td>electronics.tablet</td>\n",
       "      <td>samsung</td>\n",
       "      <td>162.01</td>\n",
       "      <td>1.515916e+18</td>\n",
       "    </tr>\n",
       "    <tr>\n",
       "      <th>1</th>\n",
       "      <td>2020-04-24 14:37:43+00:00</td>\n",
       "      <td>2294444024058086220</td>\n",
       "      <td>2273948319057183658</td>\n",
       "      <td>2.268105e+18</td>\n",
       "      <td>electronics.audio.headphone</td>\n",
       "      <td>huawei</td>\n",
       "      <td>77.52</td>\n",
       "      <td>1.515916e+18</td>\n",
       "    </tr>\n",
       "    <tr>\n",
       "      <th>2</th>\n",
       "      <td>2020-04-26 08:45:57+00:00</td>\n",
       "      <td>2295716521449619559</td>\n",
       "      <td>1515966223509261697</td>\n",
       "      <td>2.268105e+18</td>\n",
       "      <td>furniture.kitchen.table</td>\n",
       "      <td>maestro</td>\n",
       "      <td>39.33</td>\n",
       "      <td>1.515916e+18</td>\n",
       "    </tr>\n",
       "    <tr>\n",
       "      <th>3</th>\n",
       "      <td>2020-04-26 09:33:47+00:00</td>\n",
       "      <td>2295740594749702229</td>\n",
       "      <td>1515966223509104892</td>\n",
       "      <td>2.268105e+18</td>\n",
       "      <td>electronics.smartphone</td>\n",
       "      <td>apple</td>\n",
       "      <td>1387.01</td>\n",
       "      <td>1.515916e+18</td>\n",
       "    </tr>\n",
       "    <tr>\n",
       "      <th>4</th>\n",
       "      <td>2020-04-26 14:55:26+00:00</td>\n",
       "      <td>2295902490203259134</td>\n",
       "      <td>2273948311742316796</td>\n",
       "      <td>2.268105e+18</td>\n",
       "      <td>appliances.kitchen.refrigerators</td>\n",
       "      <td>lg</td>\n",
       "      <td>462.94</td>\n",
       "      <td>1.515916e+18</td>\n",
       "    </tr>\n",
       "  </tbody>\n",
       "</table>\n",
       "</div>"
      ],
      "text/plain": [
       "                 event_time             order_id           product_id  \\\n",
       "0 2020-04-24 11:50:39+00:00  2294359932054536986  1515966223509089906   \n",
       "1 2020-04-24 14:37:43+00:00  2294444024058086220  2273948319057183658   \n",
       "2 2020-04-26 08:45:57+00:00  2295716521449619559  1515966223509261697   \n",
       "3 2020-04-26 09:33:47+00:00  2295740594749702229  1515966223509104892   \n",
       "4 2020-04-26 14:55:26+00:00  2295902490203259134  2273948311742316796   \n",
       "\n",
       "    category_id                     category_code    brand    price  \\\n",
       "0  2.268105e+18                electronics.tablet  samsung   162.01   \n",
       "1  2.268105e+18       electronics.audio.headphone   huawei    77.52   \n",
       "2  2.268105e+18           furniture.kitchen.table  maestro    39.33   \n",
       "3  2.268105e+18            electronics.smartphone    apple  1387.01   \n",
       "4  2.268105e+18  appliances.kitchen.refrigerators       lg   462.94   \n",
       "\n",
       "        user_id  \n",
       "0  1.515916e+18  \n",
       "1  1.515916e+18  \n",
       "2  1.515916e+18  \n",
       "3  1.515916e+18  \n",
       "4  1.515916e+18  "
      ]
     },
     "execution_count": 67,
     "metadata": {},
     "output_type": "execute_result"
    }
   ],
   "source": [
    "df.head()"
   ]
  },
  {
   "cell_type": "code",
   "execution_count": 68,
   "metadata": {
    "colab": {
     "base_uri": "https://localhost:8080/"
    },
    "id": "yblE1gTj8pji",
    "outputId": "79d0b058-b095-4bb7-d7b6-4ee114abc942"
   },
   "outputs": [
    {
     "name": "stdout",
     "output_type": "stream",
     "text": [
      "<class 'pandas.core.frame.DataFrame'>\n",
      "Int64Index: 1521394 entries, 0 to 1531649\n",
      "Data columns (total 8 columns):\n",
      " #   Column         Non-Null Count    Dtype              \n",
      "---  ------         --------------    -----              \n",
      " 0   event_time     1521394 non-null  datetime64[ns, UTC]\n",
      " 1   order_id       1521394 non-null  int64              \n",
      " 2   product_id     1521394 non-null  int64              \n",
      " 3   category_id    1521394 non-null  float64            \n",
      " 4   category_code  1521394 non-null  object             \n",
      " 5   brand          1521394 non-null  object             \n",
      " 6   price          1521394 non-null  float64            \n",
      " 7   user_id        1521394 non-null  float64            \n",
      "dtypes: datetime64[ns, UTC](1), float64(3), int64(2), object(2)\n",
      "memory usage: 104.5+ MB\n"
     ]
    }
   ],
   "source": [
    "df.info()"
   ]
  },
  {
   "cell_type": "markdown",
   "metadata": {
    "id": "5vfU5k1k2luh"
   },
   "source": [
    "#Cohort Analysis"
   ]
  },
  {
   "cell_type": "markdown",
   "metadata": {
    "id": "HIzIgf6X3bgJ"
   },
   "source": [
    "For cohort analysis, there are a some labels that we need to create which is:\n",
    "- **Purchase period**: A string representation of the year and month of a single transaction/purchase\n",
    "- **Cohort group**: A string representation of the the year and month of a user’s first purchase. This label is common across all purchases for a particular customer.\n",
    "- **Cohort period / Cohort Index**: A integer representation a user’s stage in its “lifetime”. The number represents the number of months that have passed since the first purchase.\n"
   ]
  },
  {
   "cell_type": "code",
   "execution_count": 69,
   "metadata": {
    "colab": {
     "base_uri": "https://localhost:8080/",
     "height": 641
    },
    "id": "zRRzoZvb3cjh",
    "outputId": "7c4e6a89-e8d1-467b-af28-728b12f69828"
   },
   "outputs": [
    {
     "data": {
      "text/html": [
       "<div>\n",
       "<style scoped>\n",
       "    .dataframe tbody tr th:only-of-type {\n",
       "        vertical-align: middle;\n",
       "    }\n",
       "\n",
       "    .dataframe tbody tr th {\n",
       "        vertical-align: top;\n",
       "    }\n",
       "\n",
       "    .dataframe thead th {\n",
       "        text-align: right;\n",
       "    }\n",
       "</style>\n",
       "<table border=\"1\" class=\"dataframe\">\n",
       "  <thead>\n",
       "    <tr style=\"text-align: right;\">\n",
       "      <th></th>\n",
       "      <th>event_time</th>\n",
       "      <th>order_id</th>\n",
       "      <th>product_id</th>\n",
       "      <th>category_id</th>\n",
       "      <th>category_code</th>\n",
       "      <th>brand</th>\n",
       "      <th>price</th>\n",
       "      <th>user_id</th>\n",
       "      <th>PurchaseMonth</th>\n",
       "      <th>CohortMonth</th>\n",
       "    </tr>\n",
       "  </thead>\n",
       "  <tbody>\n",
       "    <tr>\n",
       "      <th>0</th>\n",
       "      <td>2020-04-24 11:50:39+00:00</td>\n",
       "      <td>2294359932054536986</td>\n",
       "      <td>1515966223509089906</td>\n",
       "      <td>2.268105e+18</td>\n",
       "      <td>electronics.tablet</td>\n",
       "      <td>samsung</td>\n",
       "      <td>162.01</td>\n",
       "      <td>1.515916e+18</td>\n",
       "      <td>2020-04-01</td>\n",
       "      <td>2020-04-01</td>\n",
       "    </tr>\n",
       "    <tr>\n",
       "      <th>1</th>\n",
       "      <td>2020-04-24 14:37:43+00:00</td>\n",
       "      <td>2294444024058086220</td>\n",
       "      <td>2273948319057183658</td>\n",
       "      <td>2.268105e+18</td>\n",
       "      <td>electronics.audio.headphone</td>\n",
       "      <td>huawei</td>\n",
       "      <td>77.52</td>\n",
       "      <td>1.515916e+18</td>\n",
       "      <td>2020-04-01</td>\n",
       "      <td>2020-04-01</td>\n",
       "    </tr>\n",
       "    <tr>\n",
       "      <th>2</th>\n",
       "      <td>2020-04-26 08:45:57+00:00</td>\n",
       "      <td>2295716521449619559</td>\n",
       "      <td>1515966223509261697</td>\n",
       "      <td>2.268105e+18</td>\n",
       "      <td>furniture.kitchen.table</td>\n",
       "      <td>maestro</td>\n",
       "      <td>39.33</td>\n",
       "      <td>1.515916e+18</td>\n",
       "      <td>2020-04-01</td>\n",
       "      <td>2020-04-01</td>\n",
       "    </tr>\n",
       "    <tr>\n",
       "      <th>3</th>\n",
       "      <td>2020-04-26 09:33:47+00:00</td>\n",
       "      <td>2295740594749702229</td>\n",
       "      <td>1515966223509104892</td>\n",
       "      <td>2.268105e+18</td>\n",
       "      <td>electronics.smartphone</td>\n",
       "      <td>apple</td>\n",
       "      <td>1387.01</td>\n",
       "      <td>1.515916e+18</td>\n",
       "      <td>2020-04-01</td>\n",
       "      <td>2020-04-01</td>\n",
       "    </tr>\n",
       "    <tr>\n",
       "      <th>4</th>\n",
       "      <td>2020-04-26 14:55:26+00:00</td>\n",
       "      <td>2295902490203259134</td>\n",
       "      <td>2273948311742316796</td>\n",
       "      <td>2.268105e+18</td>\n",
       "      <td>appliances.kitchen.refrigerators</td>\n",
       "      <td>lg</td>\n",
       "      <td>462.94</td>\n",
       "      <td>1.515916e+18</td>\n",
       "      <td>2020-04-01</td>\n",
       "      <td>2020-04-01</td>\n",
       "    </tr>\n",
       "    <tr>\n",
       "      <th>...</th>\n",
       "      <td>...</td>\n",
       "      <td>...</td>\n",
       "      <td>...</td>\n",
       "      <td>...</td>\n",
       "      <td>...</td>\n",
       "      <td>...</td>\n",
       "      <td>...</td>\n",
       "      <td>...</td>\n",
       "      <td>...</td>\n",
       "      <td>...</td>\n",
       "    </tr>\n",
       "    <tr>\n",
       "      <th>1531645</th>\n",
       "      <td>2020-11-21 10:08:54+00:00</td>\n",
       "      <td>2388440981134693941</td>\n",
       "      <td>1515966223509088622</td>\n",
       "      <td>2.374499e+18</td>\n",
       "      <td>electronics.video.tv</td>\n",
       "      <td>lg</td>\n",
       "      <td>370.35</td>\n",
       "      <td>1.515916e+18</td>\n",
       "      <td>2020-11-01</td>\n",
       "      <td>2020-11-01</td>\n",
       "    </tr>\n",
       "    <tr>\n",
       "      <th>1531646</th>\n",
       "      <td>2020-11-21 10:10:01+00:00</td>\n",
       "      <td>2388440981134693942</td>\n",
       "      <td>1515966223526602848</td>\n",
       "      <td>2.268105e+18</td>\n",
       "      <td>electronics.smartphone</td>\n",
       "      <td>oppo</td>\n",
       "      <td>138.87</td>\n",
       "      <td>1.515916e+18</td>\n",
       "      <td>2020-11-01</td>\n",
       "      <td>2020-11-01</td>\n",
       "    </tr>\n",
       "    <tr>\n",
       "      <th>1531647</th>\n",
       "      <td>2020-11-21 10:10:13+00:00</td>\n",
       "      <td>2388440981134693943</td>\n",
       "      <td>1515966223509089282</td>\n",
       "      <td>2.268105e+18</td>\n",
       "      <td>electronics.smartphone</td>\n",
       "      <td>apple</td>\n",
       "      <td>418.96</td>\n",
       "      <td>1.515916e+18</td>\n",
       "      <td>2020-11-01</td>\n",
       "      <td>2020-11-01</td>\n",
       "    </tr>\n",
       "    <tr>\n",
       "      <th>1531648</th>\n",
       "      <td>2020-11-21 10:10:30+00:00</td>\n",
       "      <td>2388440981134693944</td>\n",
       "      <td>1515966223509089917</td>\n",
       "      <td>2.268105e+18</td>\n",
       "      <td>appliances.personal.scales</td>\n",
       "      <td>vitek</td>\n",
       "      <td>12.48</td>\n",
       "      <td>1.515916e+18</td>\n",
       "      <td>2020-11-01</td>\n",
       "      <td>2020-11-01</td>\n",
       "    </tr>\n",
       "    <tr>\n",
       "      <th>1531649</th>\n",
       "      <td>2020-11-21 10:10:30+00:00</td>\n",
       "      <td>2388440981134693944</td>\n",
       "      <td>1515966223509127566</td>\n",
       "      <td>2.268105e+18</td>\n",
       "      <td>appliances.kitchen.blender</td>\n",
       "      <td>redmond</td>\n",
       "      <td>53.22</td>\n",
       "      <td>1.515916e+18</td>\n",
       "      <td>2020-11-01</td>\n",
       "      <td>2020-11-01</td>\n",
       "    </tr>\n",
       "  </tbody>\n",
       "</table>\n",
       "<p>1521394 rows × 10 columns</p>\n",
       "</div>"
      ],
      "text/plain": [
       "                       event_time             order_id           product_id  \\\n",
       "0       2020-04-24 11:50:39+00:00  2294359932054536986  1515966223509089906   \n",
       "1       2020-04-24 14:37:43+00:00  2294444024058086220  2273948319057183658   \n",
       "2       2020-04-26 08:45:57+00:00  2295716521449619559  1515966223509261697   \n",
       "3       2020-04-26 09:33:47+00:00  2295740594749702229  1515966223509104892   \n",
       "4       2020-04-26 14:55:26+00:00  2295902490203259134  2273948311742316796   \n",
       "...                           ...                  ...                  ...   \n",
       "1531645 2020-11-21 10:08:54+00:00  2388440981134693941  1515966223509088622   \n",
       "1531646 2020-11-21 10:10:01+00:00  2388440981134693942  1515966223526602848   \n",
       "1531647 2020-11-21 10:10:13+00:00  2388440981134693943  1515966223509089282   \n",
       "1531648 2020-11-21 10:10:30+00:00  2388440981134693944  1515966223509089917   \n",
       "1531649 2020-11-21 10:10:30+00:00  2388440981134693944  1515966223509127566   \n",
       "\n",
       "          category_id                     category_code    brand    price  \\\n",
       "0        2.268105e+18                electronics.tablet  samsung   162.01   \n",
       "1        2.268105e+18       electronics.audio.headphone   huawei    77.52   \n",
       "2        2.268105e+18           furniture.kitchen.table  maestro    39.33   \n",
       "3        2.268105e+18            electronics.smartphone    apple  1387.01   \n",
       "4        2.268105e+18  appliances.kitchen.refrigerators       lg   462.94   \n",
       "...               ...                               ...      ...      ...   \n",
       "1531645  2.374499e+18              electronics.video.tv       lg   370.35   \n",
       "1531646  2.268105e+18            electronics.smartphone     oppo   138.87   \n",
       "1531647  2.268105e+18            electronics.smartphone    apple   418.96   \n",
       "1531648  2.268105e+18        appliances.personal.scales    vitek    12.48   \n",
       "1531649  2.268105e+18        appliances.kitchen.blender  redmond    53.22   \n",
       "\n",
       "              user_id PurchaseMonth CohortMonth  \n",
       "0        1.515916e+18    2020-04-01  2020-04-01  \n",
       "1        1.515916e+18    2020-04-01  2020-04-01  \n",
       "2        1.515916e+18    2020-04-01  2020-04-01  \n",
       "3        1.515916e+18    2020-04-01  2020-04-01  \n",
       "4        1.515916e+18    2020-04-01  2020-04-01  \n",
       "...               ...           ...         ...  \n",
       "1531645  1.515916e+18    2020-11-01  2020-11-01  \n",
       "1531646  1.515916e+18    2020-11-01  2020-11-01  \n",
       "1531647  1.515916e+18    2020-11-01  2020-11-01  \n",
       "1531648  1.515916e+18    2020-11-01  2020-11-01  \n",
       "1531649  1.515916e+18    2020-11-01  2020-11-01  \n",
       "\n",
       "[1521394 rows x 10 columns]"
      ]
     },
     "execution_count": 69,
     "metadata": {},
     "output_type": "execute_result"
    }
   ],
   "source": [
    "def get_month(x) : return dt.datetime(x.year,x.month,1)\n",
    "df['PurchaseMonth'] = df['event_time'].apply(get_month)\n",
    "grouping = df.groupby('user_id')['PurchaseMonth']\n",
    "df['CohortMonth'] = grouping.transform('min')\n",
    "df"
   ]
  },
  {
   "cell_type": "code",
   "execution_count": 70,
   "metadata": {
    "id": "Xlu-W31e_oSW"
   },
   "outputs": [],
   "source": [
    "def get_month_int (dframe,column):\n",
    "    year = dframe[column].dt.year\n",
    "    month = dframe[column].dt.month\n",
    "    day = dframe[column].dt.day\n",
    "    return year, month , day \n",
    "\n",
    "purchase_year,purchase_month,_ = get_month_int(df,'PurchaseMonth')\n",
    "cohort_year,cohort_month,_ = get_month_int(df,'CohortMonth')\n",
    "\n",
    "year_diff = purchase_year - cohort_year \n",
    "month_diff = purchase_month - cohort_month \n",
    "\n",
    "df['CohortIndex'] = year_diff * 12 + month_diff"
   ]
  },
  {
   "cell_type": "code",
   "execution_count": 71,
   "metadata": {
    "colab": {
     "base_uri": "https://localhost:8080/",
     "height": 661
    },
    "id": "tymoPOsj_vH0",
    "outputId": "2b8510d9-a70c-43d8-85c0-ea693ebe3433"
   },
   "outputs": [
    {
     "data": {
      "text/html": [
       "<div>\n",
       "<style scoped>\n",
       "    .dataframe tbody tr th:only-of-type {\n",
       "        vertical-align: middle;\n",
       "    }\n",
       "\n",
       "    .dataframe tbody tr th {\n",
       "        vertical-align: top;\n",
       "    }\n",
       "\n",
       "    .dataframe thead th {\n",
       "        text-align: right;\n",
       "    }\n",
       "</style>\n",
       "<table border=\"1\" class=\"dataframe\">\n",
       "  <thead>\n",
       "    <tr style=\"text-align: right;\">\n",
       "      <th></th>\n",
       "      <th>event_time</th>\n",
       "      <th>order_id</th>\n",
       "      <th>product_id</th>\n",
       "      <th>category_id</th>\n",
       "      <th>category_code</th>\n",
       "      <th>brand</th>\n",
       "      <th>price</th>\n",
       "      <th>user_id</th>\n",
       "      <th>PurchaseMonth</th>\n",
       "      <th>CohortMonth</th>\n",
       "      <th>CohortIndex</th>\n",
       "    </tr>\n",
       "  </thead>\n",
       "  <tbody>\n",
       "    <tr>\n",
       "      <th>0</th>\n",
       "      <td>2020-04-24 11:50:39+00:00</td>\n",
       "      <td>2294359932054536986</td>\n",
       "      <td>1515966223509089906</td>\n",
       "      <td>2.268105e+18</td>\n",
       "      <td>electronics.tablet</td>\n",
       "      <td>samsung</td>\n",
       "      <td>162.01</td>\n",
       "      <td>1.515916e+18</td>\n",
       "      <td>2020-04-01</td>\n",
       "      <td>2020-04-01</td>\n",
       "      <td>0</td>\n",
       "    </tr>\n",
       "    <tr>\n",
       "      <th>1</th>\n",
       "      <td>2020-04-24 14:37:43+00:00</td>\n",
       "      <td>2294444024058086220</td>\n",
       "      <td>2273948319057183658</td>\n",
       "      <td>2.268105e+18</td>\n",
       "      <td>electronics.audio.headphone</td>\n",
       "      <td>huawei</td>\n",
       "      <td>77.52</td>\n",
       "      <td>1.515916e+18</td>\n",
       "      <td>2020-04-01</td>\n",
       "      <td>2020-04-01</td>\n",
       "      <td>0</td>\n",
       "    </tr>\n",
       "    <tr>\n",
       "      <th>2</th>\n",
       "      <td>2020-04-26 08:45:57+00:00</td>\n",
       "      <td>2295716521449619559</td>\n",
       "      <td>1515966223509261697</td>\n",
       "      <td>2.268105e+18</td>\n",
       "      <td>furniture.kitchen.table</td>\n",
       "      <td>maestro</td>\n",
       "      <td>39.33</td>\n",
       "      <td>1.515916e+18</td>\n",
       "      <td>2020-04-01</td>\n",
       "      <td>2020-04-01</td>\n",
       "      <td>0</td>\n",
       "    </tr>\n",
       "    <tr>\n",
       "      <th>3</th>\n",
       "      <td>2020-04-26 09:33:47+00:00</td>\n",
       "      <td>2295740594749702229</td>\n",
       "      <td>1515966223509104892</td>\n",
       "      <td>2.268105e+18</td>\n",
       "      <td>electronics.smartphone</td>\n",
       "      <td>apple</td>\n",
       "      <td>1387.01</td>\n",
       "      <td>1.515916e+18</td>\n",
       "      <td>2020-04-01</td>\n",
       "      <td>2020-04-01</td>\n",
       "      <td>0</td>\n",
       "    </tr>\n",
       "    <tr>\n",
       "      <th>4</th>\n",
       "      <td>2020-04-26 14:55:26+00:00</td>\n",
       "      <td>2295902490203259134</td>\n",
       "      <td>2273948311742316796</td>\n",
       "      <td>2.268105e+18</td>\n",
       "      <td>appliances.kitchen.refrigerators</td>\n",
       "      <td>lg</td>\n",
       "      <td>462.94</td>\n",
       "      <td>1.515916e+18</td>\n",
       "      <td>2020-04-01</td>\n",
       "      <td>2020-04-01</td>\n",
       "      <td>0</td>\n",
       "    </tr>\n",
       "    <tr>\n",
       "      <th>...</th>\n",
       "      <td>...</td>\n",
       "      <td>...</td>\n",
       "      <td>...</td>\n",
       "      <td>...</td>\n",
       "      <td>...</td>\n",
       "      <td>...</td>\n",
       "      <td>...</td>\n",
       "      <td>...</td>\n",
       "      <td>...</td>\n",
       "      <td>...</td>\n",
       "      <td>...</td>\n",
       "    </tr>\n",
       "    <tr>\n",
       "      <th>1531645</th>\n",
       "      <td>2020-11-21 10:08:54+00:00</td>\n",
       "      <td>2388440981134693941</td>\n",
       "      <td>1515966223509088622</td>\n",
       "      <td>2.374499e+18</td>\n",
       "      <td>electronics.video.tv</td>\n",
       "      <td>lg</td>\n",
       "      <td>370.35</td>\n",
       "      <td>1.515916e+18</td>\n",
       "      <td>2020-11-01</td>\n",
       "      <td>2020-11-01</td>\n",
       "      <td>0</td>\n",
       "    </tr>\n",
       "    <tr>\n",
       "      <th>1531646</th>\n",
       "      <td>2020-11-21 10:10:01+00:00</td>\n",
       "      <td>2388440981134693942</td>\n",
       "      <td>1515966223526602848</td>\n",
       "      <td>2.268105e+18</td>\n",
       "      <td>electronics.smartphone</td>\n",
       "      <td>oppo</td>\n",
       "      <td>138.87</td>\n",
       "      <td>1.515916e+18</td>\n",
       "      <td>2020-11-01</td>\n",
       "      <td>2020-11-01</td>\n",
       "      <td>0</td>\n",
       "    </tr>\n",
       "    <tr>\n",
       "      <th>1531647</th>\n",
       "      <td>2020-11-21 10:10:13+00:00</td>\n",
       "      <td>2388440981134693943</td>\n",
       "      <td>1515966223509089282</td>\n",
       "      <td>2.268105e+18</td>\n",
       "      <td>electronics.smartphone</td>\n",
       "      <td>apple</td>\n",
       "      <td>418.96</td>\n",
       "      <td>1.515916e+18</td>\n",
       "      <td>2020-11-01</td>\n",
       "      <td>2020-11-01</td>\n",
       "      <td>0</td>\n",
       "    </tr>\n",
       "    <tr>\n",
       "      <th>1531648</th>\n",
       "      <td>2020-11-21 10:10:30+00:00</td>\n",
       "      <td>2388440981134693944</td>\n",
       "      <td>1515966223509089917</td>\n",
       "      <td>2.268105e+18</td>\n",
       "      <td>appliances.personal.scales</td>\n",
       "      <td>vitek</td>\n",
       "      <td>12.48</td>\n",
       "      <td>1.515916e+18</td>\n",
       "      <td>2020-11-01</td>\n",
       "      <td>2020-11-01</td>\n",
       "      <td>0</td>\n",
       "    </tr>\n",
       "    <tr>\n",
       "      <th>1531649</th>\n",
       "      <td>2020-11-21 10:10:30+00:00</td>\n",
       "      <td>2388440981134693944</td>\n",
       "      <td>1515966223509127566</td>\n",
       "      <td>2.268105e+18</td>\n",
       "      <td>appliances.kitchen.blender</td>\n",
       "      <td>redmond</td>\n",
       "      <td>53.22</td>\n",
       "      <td>1.515916e+18</td>\n",
       "      <td>2020-11-01</td>\n",
       "      <td>2020-11-01</td>\n",
       "      <td>0</td>\n",
       "    </tr>\n",
       "  </tbody>\n",
       "</table>\n",
       "<p>1521394 rows × 11 columns</p>\n",
       "</div>"
      ],
      "text/plain": [
       "                       event_time             order_id           product_id  \\\n",
       "0       2020-04-24 11:50:39+00:00  2294359932054536986  1515966223509089906   \n",
       "1       2020-04-24 14:37:43+00:00  2294444024058086220  2273948319057183658   \n",
       "2       2020-04-26 08:45:57+00:00  2295716521449619559  1515966223509261697   \n",
       "3       2020-04-26 09:33:47+00:00  2295740594749702229  1515966223509104892   \n",
       "4       2020-04-26 14:55:26+00:00  2295902490203259134  2273948311742316796   \n",
       "...                           ...                  ...                  ...   \n",
       "1531645 2020-11-21 10:08:54+00:00  2388440981134693941  1515966223509088622   \n",
       "1531646 2020-11-21 10:10:01+00:00  2388440981134693942  1515966223526602848   \n",
       "1531647 2020-11-21 10:10:13+00:00  2388440981134693943  1515966223509089282   \n",
       "1531648 2020-11-21 10:10:30+00:00  2388440981134693944  1515966223509089917   \n",
       "1531649 2020-11-21 10:10:30+00:00  2388440981134693944  1515966223509127566   \n",
       "\n",
       "          category_id                     category_code    brand    price  \\\n",
       "0        2.268105e+18                electronics.tablet  samsung   162.01   \n",
       "1        2.268105e+18       electronics.audio.headphone   huawei    77.52   \n",
       "2        2.268105e+18           furniture.kitchen.table  maestro    39.33   \n",
       "3        2.268105e+18            electronics.smartphone    apple  1387.01   \n",
       "4        2.268105e+18  appliances.kitchen.refrigerators       lg   462.94   \n",
       "...               ...                               ...      ...      ...   \n",
       "1531645  2.374499e+18              electronics.video.tv       lg   370.35   \n",
       "1531646  2.268105e+18            electronics.smartphone     oppo   138.87   \n",
       "1531647  2.268105e+18            electronics.smartphone    apple   418.96   \n",
       "1531648  2.268105e+18        appliances.personal.scales    vitek    12.48   \n",
       "1531649  2.268105e+18        appliances.kitchen.blender  redmond    53.22   \n",
       "\n",
       "              user_id PurchaseMonth CohortMonth  CohortIndex  \n",
       "0        1.515916e+18    2020-04-01  2020-04-01            0  \n",
       "1        1.515916e+18    2020-04-01  2020-04-01            0  \n",
       "2        1.515916e+18    2020-04-01  2020-04-01            0  \n",
       "3        1.515916e+18    2020-04-01  2020-04-01            0  \n",
       "4        1.515916e+18    2020-04-01  2020-04-01            0  \n",
       "...               ...           ...         ...          ...  \n",
       "1531645  1.515916e+18    2020-11-01  2020-11-01            0  \n",
       "1531646  1.515916e+18    2020-11-01  2020-11-01            0  \n",
       "1531647  1.515916e+18    2020-11-01  2020-11-01            0  \n",
       "1531648  1.515916e+18    2020-11-01  2020-11-01            0  \n",
       "1531649  1.515916e+18    2020-11-01  2020-11-01            0  \n",
       "\n",
       "[1521394 rows x 11 columns]"
      ]
     },
     "execution_count": 71,
     "metadata": {},
     "output_type": "execute_result"
    }
   ],
   "source": [
    "df"
   ]
  },
  {
   "cell_type": "code",
   "execution_count": 72,
   "metadata": {
    "id": "l43PUstwACe0"
   },
   "outputs": [],
   "source": [
    "#Count monthly active customers from each cohort\n",
    "df_temp = df.copy()\n",
    "df_temp['CohortMonth'] = df_temp['CohortMonth'].apply(lambda row:row.strftime('%Y-%m'))\n",
    "grouping = df_temp.groupby(['CohortMonth', 'CohortIndex'])\n",
    "cohort_data = grouping['user_id'].apply(pd.Series.nunique)"
   ]
  },
  {
   "cell_type": "code",
   "execution_count": 74,
   "metadata": {
    "colab": {
     "base_uri": "https://localhost:8080/"
    },
    "id": "lkwEPMm8AKzq",
    "outputId": "6468f91d-f373-4d1d-f3b5-5c88470996c1"
   },
   "outputs": [
    {
     "data": {
      "text/plain": [
       "CohortMonth  CohortIndex\n",
       "2020-01      0              1432\n",
       "             1               463\n",
       "             2               406\n",
       "             3               350\n",
       "             4               558\n",
       "                            ... \n",
       "2020-09      1              1580\n",
       "             2               675\n",
       "2020-10      0              5771\n",
       "             1               803\n",
       "2020-11      0              2959\n",
       "Name: user_id, Length: 66, dtype: int64"
      ]
     },
     "execution_count": 74,
     "metadata": {},
     "output_type": "execute_result"
    }
   ],
   "source": [
    "cohort_data"
   ]
  },
  {
   "cell_type": "code",
   "execution_count": 75,
   "metadata": {
    "colab": {
     "base_uri": "https://localhost:8080/",
     "height": 426
    },
    "id": "y7_xUG6eANAn",
    "outputId": "19cf6d56-ec83-4b15-e8f6-facf9300c2a6"
   },
   "outputs": [
    {
     "data": {
      "text/html": [
       "<div>\n",
       "<style scoped>\n",
       "    .dataframe tbody tr th:only-of-type {\n",
       "        vertical-align: middle;\n",
       "    }\n",
       "\n",
       "    .dataframe tbody tr th {\n",
       "        vertical-align: top;\n",
       "    }\n",
       "\n",
       "    .dataframe thead th {\n",
       "        text-align: right;\n",
       "    }\n",
       "</style>\n",
       "<table border=\"1\" class=\"dataframe\">\n",
       "  <thead>\n",
       "    <tr style=\"text-align: right;\">\n",
       "      <th>CohortIndex</th>\n",
       "      <th>0</th>\n",
       "      <th>1</th>\n",
       "      <th>2</th>\n",
       "      <th>3</th>\n",
       "      <th>4</th>\n",
       "      <th>5</th>\n",
       "      <th>6</th>\n",
       "      <th>7</th>\n",
       "      <th>8</th>\n",
       "      <th>9</th>\n",
       "      <th>10</th>\n",
       "    </tr>\n",
       "    <tr>\n",
       "      <th>CohortMonth</th>\n",
       "      <th></th>\n",
       "      <th></th>\n",
       "      <th></th>\n",
       "      <th></th>\n",
       "      <th></th>\n",
       "      <th></th>\n",
       "      <th></th>\n",
       "      <th></th>\n",
       "      <th></th>\n",
       "      <th></th>\n",
       "      <th></th>\n",
       "    </tr>\n",
       "  </thead>\n",
       "  <tbody>\n",
       "    <tr>\n",
       "      <th>2020-01</th>\n",
       "      <td>1432.0</td>\n",
       "      <td>463.0</td>\n",
       "      <td>406.0</td>\n",
       "      <td>350.0</td>\n",
       "      <td>558.0</td>\n",
       "      <td>557.0</td>\n",
       "      <td>505.0</td>\n",
       "      <td>555.0</td>\n",
       "      <td>497.0</td>\n",
       "      <td>309.0</td>\n",
       "      <td>224.0</td>\n",
       "    </tr>\n",
       "    <tr>\n",
       "      <th>2020-02</th>\n",
       "      <td>1390.0</td>\n",
       "      <td>394.0</td>\n",
       "      <td>290.0</td>\n",
       "      <td>502.0</td>\n",
       "      <td>510.0</td>\n",
       "      <td>489.0</td>\n",
       "      <td>503.0</td>\n",
       "      <td>433.0</td>\n",
       "      <td>266.0</td>\n",
       "      <td>211.0</td>\n",
       "      <td>NaN</td>\n",
       "    </tr>\n",
       "    <tr>\n",
       "      <th>2020-03</th>\n",
       "      <td>1393.0</td>\n",
       "      <td>314.0</td>\n",
       "      <td>548.0</td>\n",
       "      <td>519.0</td>\n",
       "      <td>459.0</td>\n",
       "      <td>510.0</td>\n",
       "      <td>448.0</td>\n",
       "      <td>270.0</td>\n",
       "      <td>176.0</td>\n",
       "      <td>NaN</td>\n",
       "      <td>NaN</td>\n",
       "    </tr>\n",
       "    <tr>\n",
       "      <th>2020-04</th>\n",
       "      <td>3775.0</td>\n",
       "      <td>856.0</td>\n",
       "      <td>576.0</td>\n",
       "      <td>790.0</td>\n",
       "      <td>795.0</td>\n",
       "      <td>589.0</td>\n",
       "      <td>383.0</td>\n",
       "      <td>205.0</td>\n",
       "      <td>NaN</td>\n",
       "      <td>NaN</td>\n",
       "      <td>NaN</td>\n",
       "    </tr>\n",
       "    <tr>\n",
       "      <th>2020-05</th>\n",
       "      <td>13047.0</td>\n",
       "      <td>1722.0</td>\n",
       "      <td>2169.0</td>\n",
       "      <td>2173.0</td>\n",
       "      <td>1438.0</td>\n",
       "      <td>858.0</td>\n",
       "      <td>457.0</td>\n",
       "      <td>NaN</td>\n",
       "      <td>NaN</td>\n",
       "      <td>NaN</td>\n",
       "      <td>NaN</td>\n",
       "    </tr>\n",
       "    <tr>\n",
       "      <th>2020-06</th>\n",
       "      <td>8426.0</td>\n",
       "      <td>1841.0</td>\n",
       "      <td>1588.0</td>\n",
       "      <td>1048.0</td>\n",
       "      <td>674.0</td>\n",
       "      <td>379.0</td>\n",
       "      <td>NaN</td>\n",
       "      <td>NaN</td>\n",
       "      <td>NaN</td>\n",
       "      <td>NaN</td>\n",
       "      <td>NaN</td>\n",
       "    </tr>\n",
       "    <tr>\n",
       "      <th>2020-07</th>\n",
       "      <td>21540.0</td>\n",
       "      <td>4739.0</td>\n",
       "      <td>2107.0</td>\n",
       "      <td>1280.0</td>\n",
       "      <td>628.0</td>\n",
       "      <td>NaN</td>\n",
       "      <td>NaN</td>\n",
       "      <td>NaN</td>\n",
       "      <td>NaN</td>\n",
       "      <td>NaN</td>\n",
       "      <td>NaN</td>\n",
       "    </tr>\n",
       "    <tr>\n",
       "      <th>2020-08</th>\n",
       "      <td>22496.0</td>\n",
       "      <td>3098.0</td>\n",
       "      <td>1843.0</td>\n",
       "      <td>989.0</td>\n",
       "      <td>NaN</td>\n",
       "      <td>NaN</td>\n",
       "      <td>NaN</td>\n",
       "      <td>NaN</td>\n",
       "      <td>NaN</td>\n",
       "      <td>NaN</td>\n",
       "      <td>NaN</td>\n",
       "    </tr>\n",
       "    <tr>\n",
       "      <th>2020-09</th>\n",
       "      <td>8552.0</td>\n",
       "      <td>1580.0</td>\n",
       "      <td>675.0</td>\n",
       "      <td>NaN</td>\n",
       "      <td>NaN</td>\n",
       "      <td>NaN</td>\n",
       "      <td>NaN</td>\n",
       "      <td>NaN</td>\n",
       "      <td>NaN</td>\n",
       "      <td>NaN</td>\n",
       "      <td>NaN</td>\n",
       "    </tr>\n",
       "    <tr>\n",
       "      <th>2020-10</th>\n",
       "      <td>5771.0</td>\n",
       "      <td>803.0</td>\n",
       "      <td>NaN</td>\n",
       "      <td>NaN</td>\n",
       "      <td>NaN</td>\n",
       "      <td>NaN</td>\n",
       "      <td>NaN</td>\n",
       "      <td>NaN</td>\n",
       "      <td>NaN</td>\n",
       "      <td>NaN</td>\n",
       "      <td>NaN</td>\n",
       "    </tr>\n",
       "    <tr>\n",
       "      <th>2020-11</th>\n",
       "      <td>2959.0</td>\n",
       "      <td>NaN</td>\n",
       "      <td>NaN</td>\n",
       "      <td>NaN</td>\n",
       "      <td>NaN</td>\n",
       "      <td>NaN</td>\n",
       "      <td>NaN</td>\n",
       "      <td>NaN</td>\n",
       "      <td>NaN</td>\n",
       "      <td>NaN</td>\n",
       "      <td>NaN</td>\n",
       "    </tr>\n",
       "  </tbody>\n",
       "</table>\n",
       "</div>"
      ],
      "text/plain": [
       "CohortIndex       0       1       2       3       4      5      6      7   \\\n",
       "CohortMonth                                                                 \n",
       "2020-01       1432.0   463.0   406.0   350.0   558.0  557.0  505.0  555.0   \n",
       "2020-02       1390.0   394.0   290.0   502.0   510.0  489.0  503.0  433.0   \n",
       "2020-03       1393.0   314.0   548.0   519.0   459.0  510.0  448.0  270.0   \n",
       "2020-04       3775.0   856.0   576.0   790.0   795.0  589.0  383.0  205.0   \n",
       "2020-05      13047.0  1722.0  2169.0  2173.0  1438.0  858.0  457.0    NaN   \n",
       "2020-06       8426.0  1841.0  1588.0  1048.0   674.0  379.0    NaN    NaN   \n",
       "2020-07      21540.0  4739.0  2107.0  1280.0   628.0    NaN    NaN    NaN   \n",
       "2020-08      22496.0  3098.0  1843.0   989.0     NaN    NaN    NaN    NaN   \n",
       "2020-09       8552.0  1580.0   675.0     NaN     NaN    NaN    NaN    NaN   \n",
       "2020-10       5771.0   803.0     NaN     NaN     NaN    NaN    NaN    NaN   \n",
       "2020-11       2959.0     NaN     NaN     NaN     NaN    NaN    NaN    NaN   \n",
       "\n",
       "CohortIndex     8      9      10  \n",
       "CohortMonth                       \n",
       "2020-01      497.0  309.0  224.0  \n",
       "2020-02      266.0  211.0    NaN  \n",
       "2020-03      176.0    NaN    NaN  \n",
       "2020-04        NaN    NaN    NaN  \n",
       "2020-05        NaN    NaN    NaN  \n",
       "2020-06        NaN    NaN    NaN  \n",
       "2020-07        NaN    NaN    NaN  \n",
       "2020-08        NaN    NaN    NaN  \n",
       "2020-09        NaN    NaN    NaN  \n",
       "2020-10        NaN    NaN    NaN  \n",
       "2020-11        NaN    NaN    NaN  "
      ]
     },
     "execution_count": 75,
     "metadata": {},
     "output_type": "execute_result"
    }
   ],
   "source": [
    "# Return number of unique elements in the object.\n",
    "cohort_data = cohort_data.reset_index()\n",
    "cohort_counts = cohort_data.pivot(index='CohortMonth',columns='CohortIndex',values='user_id')\n",
    "cohort_counts"
   ]
  },
  {
   "cell_type": "code",
   "execution_count": 76,
   "metadata": {
    "colab": {
     "base_uri": "https://localhost:8080/",
     "height": 426
    },
    "id": "JimF5GyWAdTU",
    "outputId": "a6587e3d-4084-47c3-f911-1523141ed388"
   },
   "outputs": [
    {
     "data": {
      "text/html": [
       "<div>\n",
       "<style scoped>\n",
       "    .dataframe tbody tr th:only-of-type {\n",
       "        vertical-align: middle;\n",
       "    }\n",
       "\n",
       "    .dataframe tbody tr th {\n",
       "        vertical-align: top;\n",
       "    }\n",
       "\n",
       "    .dataframe thead th {\n",
       "        text-align: right;\n",
       "    }\n",
       "</style>\n",
       "<table border=\"1\" class=\"dataframe\">\n",
       "  <thead>\n",
       "    <tr style=\"text-align: right;\">\n",
       "      <th>CohortIndex</th>\n",
       "      <th>0</th>\n",
       "      <th>1</th>\n",
       "      <th>2</th>\n",
       "      <th>3</th>\n",
       "      <th>4</th>\n",
       "      <th>5</th>\n",
       "      <th>6</th>\n",
       "      <th>7</th>\n",
       "      <th>8</th>\n",
       "      <th>9</th>\n",
       "      <th>10</th>\n",
       "    </tr>\n",
       "    <tr>\n",
       "      <th>CohortMonth</th>\n",
       "      <th></th>\n",
       "      <th></th>\n",
       "      <th></th>\n",
       "      <th></th>\n",
       "      <th></th>\n",
       "      <th></th>\n",
       "      <th></th>\n",
       "      <th></th>\n",
       "      <th></th>\n",
       "      <th></th>\n",
       "      <th></th>\n",
       "    </tr>\n",
       "  </thead>\n",
       "  <tbody>\n",
       "    <tr>\n",
       "      <th>2020-01</th>\n",
       "      <td>100.0</td>\n",
       "      <td>32.3</td>\n",
       "      <td>28.4</td>\n",
       "      <td>24.4</td>\n",
       "      <td>39.0</td>\n",
       "      <td>38.9</td>\n",
       "      <td>35.3</td>\n",
       "      <td>38.8</td>\n",
       "      <td>34.7</td>\n",
       "      <td>21.6</td>\n",
       "      <td>15.6</td>\n",
       "    </tr>\n",
       "    <tr>\n",
       "      <th>2020-02</th>\n",
       "      <td>100.0</td>\n",
       "      <td>28.3</td>\n",
       "      <td>20.9</td>\n",
       "      <td>36.1</td>\n",
       "      <td>36.7</td>\n",
       "      <td>35.2</td>\n",
       "      <td>36.2</td>\n",
       "      <td>31.2</td>\n",
       "      <td>19.1</td>\n",
       "      <td>15.2</td>\n",
       "      <td>NaN</td>\n",
       "    </tr>\n",
       "    <tr>\n",
       "      <th>2020-03</th>\n",
       "      <td>100.0</td>\n",
       "      <td>22.5</td>\n",
       "      <td>39.3</td>\n",
       "      <td>37.3</td>\n",
       "      <td>33.0</td>\n",
       "      <td>36.6</td>\n",
       "      <td>32.2</td>\n",
       "      <td>19.4</td>\n",
       "      <td>12.6</td>\n",
       "      <td>NaN</td>\n",
       "      <td>NaN</td>\n",
       "    </tr>\n",
       "    <tr>\n",
       "      <th>2020-04</th>\n",
       "      <td>100.0</td>\n",
       "      <td>22.7</td>\n",
       "      <td>15.3</td>\n",
       "      <td>20.9</td>\n",
       "      <td>21.1</td>\n",
       "      <td>15.6</td>\n",
       "      <td>10.1</td>\n",
       "      <td>5.4</td>\n",
       "      <td>NaN</td>\n",
       "      <td>NaN</td>\n",
       "      <td>NaN</td>\n",
       "    </tr>\n",
       "    <tr>\n",
       "      <th>2020-05</th>\n",
       "      <td>100.0</td>\n",
       "      <td>13.2</td>\n",
       "      <td>16.6</td>\n",
       "      <td>16.7</td>\n",
       "      <td>11.0</td>\n",
       "      <td>6.6</td>\n",
       "      <td>3.5</td>\n",
       "      <td>NaN</td>\n",
       "      <td>NaN</td>\n",
       "      <td>NaN</td>\n",
       "      <td>NaN</td>\n",
       "    </tr>\n",
       "    <tr>\n",
       "      <th>2020-06</th>\n",
       "      <td>100.0</td>\n",
       "      <td>21.8</td>\n",
       "      <td>18.8</td>\n",
       "      <td>12.4</td>\n",
       "      <td>8.0</td>\n",
       "      <td>4.5</td>\n",
       "      <td>NaN</td>\n",
       "      <td>NaN</td>\n",
       "      <td>NaN</td>\n",
       "      <td>NaN</td>\n",
       "      <td>NaN</td>\n",
       "    </tr>\n",
       "    <tr>\n",
       "      <th>2020-07</th>\n",
       "      <td>100.0</td>\n",
       "      <td>22.0</td>\n",
       "      <td>9.8</td>\n",
       "      <td>5.9</td>\n",
       "      <td>2.9</td>\n",
       "      <td>NaN</td>\n",
       "      <td>NaN</td>\n",
       "      <td>NaN</td>\n",
       "      <td>NaN</td>\n",
       "      <td>NaN</td>\n",
       "      <td>NaN</td>\n",
       "    </tr>\n",
       "    <tr>\n",
       "      <th>2020-08</th>\n",
       "      <td>100.0</td>\n",
       "      <td>13.8</td>\n",
       "      <td>8.2</td>\n",
       "      <td>4.4</td>\n",
       "      <td>NaN</td>\n",
       "      <td>NaN</td>\n",
       "      <td>NaN</td>\n",
       "      <td>NaN</td>\n",
       "      <td>NaN</td>\n",
       "      <td>NaN</td>\n",
       "      <td>NaN</td>\n",
       "    </tr>\n",
       "    <tr>\n",
       "      <th>2020-09</th>\n",
       "      <td>100.0</td>\n",
       "      <td>18.5</td>\n",
       "      <td>7.9</td>\n",
       "      <td>NaN</td>\n",
       "      <td>NaN</td>\n",
       "      <td>NaN</td>\n",
       "      <td>NaN</td>\n",
       "      <td>NaN</td>\n",
       "      <td>NaN</td>\n",
       "      <td>NaN</td>\n",
       "      <td>NaN</td>\n",
       "    </tr>\n",
       "    <tr>\n",
       "      <th>2020-10</th>\n",
       "      <td>100.0</td>\n",
       "      <td>13.9</td>\n",
       "      <td>NaN</td>\n",
       "      <td>NaN</td>\n",
       "      <td>NaN</td>\n",
       "      <td>NaN</td>\n",
       "      <td>NaN</td>\n",
       "      <td>NaN</td>\n",
       "      <td>NaN</td>\n",
       "      <td>NaN</td>\n",
       "      <td>NaN</td>\n",
       "    </tr>\n",
       "    <tr>\n",
       "      <th>2020-11</th>\n",
       "      <td>100.0</td>\n",
       "      <td>NaN</td>\n",
       "      <td>NaN</td>\n",
       "      <td>NaN</td>\n",
       "      <td>NaN</td>\n",
       "      <td>NaN</td>\n",
       "      <td>NaN</td>\n",
       "      <td>NaN</td>\n",
       "      <td>NaN</td>\n",
       "      <td>NaN</td>\n",
       "      <td>NaN</td>\n",
       "    </tr>\n",
       "  </tbody>\n",
       "</table>\n",
       "</div>"
      ],
      "text/plain": [
       "CohortIndex     0     1     2     3     4     5     6     7     8     9     10\n",
       "CohortMonth                                                                   \n",
       "2020-01      100.0  32.3  28.4  24.4  39.0  38.9  35.3  38.8  34.7  21.6  15.6\n",
       "2020-02      100.0  28.3  20.9  36.1  36.7  35.2  36.2  31.2  19.1  15.2   NaN\n",
       "2020-03      100.0  22.5  39.3  37.3  33.0  36.6  32.2  19.4  12.6   NaN   NaN\n",
       "2020-04      100.0  22.7  15.3  20.9  21.1  15.6  10.1   5.4   NaN   NaN   NaN\n",
       "2020-05      100.0  13.2  16.6  16.7  11.0   6.6   3.5   NaN   NaN   NaN   NaN\n",
       "2020-06      100.0  21.8  18.8  12.4   8.0   4.5   NaN   NaN   NaN   NaN   NaN\n",
       "2020-07      100.0  22.0   9.8   5.9   2.9   NaN   NaN   NaN   NaN   NaN   NaN\n",
       "2020-08      100.0  13.8   8.2   4.4   NaN   NaN   NaN   NaN   NaN   NaN   NaN\n",
       "2020-09      100.0  18.5   7.9   NaN   NaN   NaN   NaN   NaN   NaN   NaN   NaN\n",
       "2020-10      100.0  13.9   NaN   NaN   NaN   NaN   NaN   NaN   NaN   NaN   NaN\n",
       "2020-11      100.0   NaN   NaN   NaN   NaN   NaN   NaN   NaN   NaN   NaN   NaN"
      ]
     },
     "execution_count": 76,
     "metadata": {},
     "output_type": "execute_result"
    }
   ],
   "source": [
    "# Retention table\n",
    "cohort_size = cohort_counts.iloc[:,0]\n",
    "retention = cohort_counts.divide(cohort_size,axis=0) #axis=0 to ensure the divide along the row axis \n",
    "retention.round(3) * 100 #to show the number as percentage "
   ]
  },
  {
   "cell_type": "code",
   "execution_count": 77,
   "metadata": {
    "colab": {
     "base_uri": "https://localhost:8080/",
     "height": 513
    },
    "id": "GlWzX2oVAkS_",
    "outputId": "d908cf73-82b1-4b9b-f6c8-a7860d35bceb"
   },
   "outputs": [
    {
     "data": {
      "image/png": "[encoded data removed]",
      "text/plain": [
       "<Figure size 1080x576 with 2 Axes>"
      ]
     },
     "metadata": {
      "needs_background": "light"
     },
     "output_type": "display_data"
    }
   ],
   "source": [
    "#Build the heatmap\n",
    "plt.figure(figsize=(15, 8))\n",
    "plt.title('Retention rates')\n",
    "sns.heatmap(data=retention,annot = True,fmt = '.0%',vmin = 0.0,vmax = 0.5,cmap=\"BuPu_r\")\n",
    "plt.show()"
   ]
  },
  {
   "cell_type": "markdown",
   "metadata": {},
   "source": [
    "From the perspective of retention over product lifetime from the graph above, we can see that **the active users until current month is about 14% of total users**. There is significant drop in product retention rate from **April to May** and from **July to August**. The retention rate over product lifetime fluctuates from month to month but tends to drop as the time goes on. This indicates that the product performance has to be reevaluated and reviewed to increase retention rate. Meanwhile, we can also see that the users who joined in the early year tend to have higher product retention rate than those who joined in mid-year and late year. From the perspective of retention over user lifetime, the drop in retention rate is significant from **September to October**. This indicates that the customer support or the operations has to reevaluated and reviewed on that time range to maintain the user retention rate"
   ]
  },
  {
   "cell_type": "code",
   "execution_count": 79,
   "metadata": {
    "colab": {
     "base_uri": "https://localhost:8080/",
     "height": 513
    },
    "id": "C5nqnBxqApv2",
    "outputId": "0edff249-5151-4f79-d412-4a2894a5bd95"
   },
   "outputs": [
    {
     "data": {
      "image/png": "[encoded data removed]",
      "text/plain": [
       "<Figure size 1080x576 with 2 Axes>"
      ]
     },
     "metadata": {
      "needs_background": "light"
     },
     "output_type": "display_data"
    }
   ],
   "source": [
    "#Average quantity for each cohort\n",
    "grouping = df.groupby(['CohortMonth', 'CohortIndex'])\n",
    "cohort_data = grouping['price'].sum()\n",
    "cohort_data = cohort_data.reset_index()\n",
    "average_quantity = cohort_data.pivot(index='CohortMonth',columns='CohortIndex',values='price')\n",
    "average_quantity.round(1)\n",
    "average_quantity.index = average_quantity.index.date\n",
    "\n",
    "# Retention table\n",
    "cohort_size = average_quantity.iloc[:,0]\n",
    "retention = average_quantity.divide(cohort_size,axis=0) #axis=0 to ensure the divide along the row axis \n",
    "retention.round(3) * 100 #to show the number as percentage \n",
    "\n",
    "#Build the heatmap\n",
    "plt.figure(figsize=(15, 8))\n",
    "plt.title('Average quantity for each cohort')\n",
    "sns.heatmap(data=retention,annot = True,vmin = 0.0,vmax =1,cmap=\"BuPu_r\")\n",
    "plt.show()"
   ]
  },
  {
   "cell_type": "markdown",
   "metadata": {},
   "source": [
    "From the graph above, we can see that the users who joined in the early year tends to have higher spending throughout the year. It is also noted that the increase in user's spending rise from June to July. This may happen because of successful campaign, good operations or good customer support, etc. In the other hand, the user's spending meets its highest drop from **September to October**. From the previous graph, the user retention rate also drops significantly in this timeframe. This incident must have something to do with customer support or operations and have to be reevaluated."
   ]
  }
 ],
 "metadata": {
  "colab": {
   "provenance": []
  },
  "kernelspec": {
   "display_name": "Python 3 (ipykernel)",
   "language": "python",
   "name": "python3"
  },
  "language_info": {
   "codemirror_mode": {
    "name": "ipython",
    "version": 3
   },
   "file_extension": ".py",
   "mimetype": "text/x-python",
   "name": "python",
   "nbconvert_exporter": "python",
   "pygments_lexer": "ipython3",
   "version": "3.9.12"
  }
 },
 "nbformat": 4,
 "nbformat_minor": 1
}
